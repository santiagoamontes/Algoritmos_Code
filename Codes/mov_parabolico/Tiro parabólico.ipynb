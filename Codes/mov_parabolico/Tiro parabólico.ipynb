{
 "cells": [
  {
   "cell_type": "markdown",
   "metadata": {},
   "source": [
    "**Nombre**: Santiago Andrés Montes Camacho\n",
    "\n",
    "**Código**: 2210718"
   ]
  },
  {
   "cell_type": "code",
   "execution_count": 1,
   "metadata": {},
   "outputs": [
    {
     "name": "stderr",
     "output_type": "stream",
     "text": [
      "/home/hogar/.local/lib/python3.8/site-packages/pandas/core/computation/expressions.py:20: UserWarning: Pandas requires version '2.7.3' or newer of 'numexpr' (version '2.7.1' currently installed).\n",
      "  from pandas.core.computation.check import NUMEXPR_INSTALLED\n"
     ]
    }
   ],
   "source": [
    "import numpy as np\n",
    "import matplotlib.pyplot as plt\n",
    "import pandas as pd"
   ]
  },
  {
   "cell_type": "code",
   "execution_count": 2,
   "metadata": {},
   "outputs": [],
   "source": [
    "#Definimos parámetros iniciales\n",
    "v_0 = 100 \n",
    "g = 9.8\n",
    "theta = (np.pi)/6\n",
    "n = 200"
   ]
  },
  {
   "cell_type": "code",
   "execution_count": 3,
   "metadata": {},
   "outputs": [],
   "source": [
    "#Función de tiempo máximo de movimiento para una velocidad, aceleración, y ángulo cualquiera\n",
    "def time(v_0,g,theta):\n",
    "    t = (2*v_0*np.sin(theta)) / g\n",
    "    return t"
   ]
  },
  {
   "cell_type": "code",
   "execution_count": 4,
   "metadata": {},
   "outputs": [],
   "source": [
    "#Se evalúa la función con los parámetros iniciales que definimos anteriormente<\n",
    "t_max = time(v_0,g,theta)"
   ]
  },
  {
   "cell_type": "code",
   "execution_count": 5,
   "metadata": {},
   "outputs": [
    {
     "data": {
      "text/plain": [
       "10.20408163265306"
      ]
     },
     "execution_count": 5,
     "metadata": {},
     "output_type": "execute_result"
    }
   ],
   "source": [
    "#Tiempo máximo de vuelo\n",
    "t_max"
   ]
  },
  {
   "cell_type": "code",
   "execution_count": 6,
   "metadata": {},
   "outputs": [
    {
     "data": {
      "text/plain": [
       "0.05102040816326529"
      ]
     },
     "execution_count": 6,
     "metadata": {},
     "output_type": "execute_result"
    }
   ],
   "source": [
    "#División de tiempo en las particiones dadas \n",
    "delta = t_max / n \n",
    "delta"
   ]
  },
  {
   "cell_type": "code",
   "execution_count": 7,
   "metadata": {},
   "outputs": [],
   "source": [
    "#Funcion de velocidad horizontal y vertical\n",
    "\n",
    "def v_x(v_0, theta):\n",
    "    v_x = v_0*np.cos(theta)\n",
    "    return v_x\n",
    "\n",
    "def v_y(v0, theta):\n",
    "    v_y = v_0*np.sin(theta) + g*t\n",
    "    \n"
   ]
  },
  {
   "cell_type": "code",
   "execution_count": 27,
   "metadata": {},
   "outputs": [
    {
     "data": {
      "text/plain": [
       "[49.99999999999999,\n",
       " 49.49999999999999,\n",
       " 48.99999999999999,\n",
       " 48.49999999999999,\n",
       " 47.99999999999999,\n",
       " 47.49999999999999,\n",
       " 46.99999999999999,\n",
       " 46.49999999999999,\n",
       " 45.99999999999999,\n",
       " 45.49999999999999,\n",
       " 44.99999999999999,\n",
       " 44.49999999999999,\n",
       " 43.99999999999999,\n",
       " 43.49999999999999,\n",
       " 42.99999999999999,\n",
       " 42.49999999999999,\n",
       " 41.99999999999999,\n",
       " 41.49999999999999,\n",
       " 40.99999999999999,\n",
       " 40.49999999999999,\n",
       " 39.99999999999999,\n",
       " 39.49999999999999,\n",
       " 38.99999999999999,\n",
       " 38.5,\n",
       " 38.0,\n",
       " 37.49999999999999,\n",
       " 36.99999999999999,\n",
       " 36.49999999999999,\n",
       " 36.0,\n",
       " 35.5,\n",
       " 34.99999999999999,\n",
       " 34.49999999999999,\n",
       " 34.0,\n",
       " 33.5,\n",
       " 33.0,\n",
       " 32.5,\n",
       " 31.999999999999996,\n",
       " 31.499999999999996,\n",
       " 30.999999999999996,\n",
       " 30.499999999999996,\n",
       " 29.999999999999996,\n",
       " 29.499999999999996,\n",
       " 28.999999999999996,\n",
       " 28.499999999999996,\n",
       " 27.999999999999996,\n",
       " 27.499999999999996,\n",
       " 27.0,\n",
       " 26.5,\n",
       " 26.0,\n",
       " 25.499999999999996,\n",
       " 24.999999999999996,\n",
       " 24.499999999999996,\n",
       " 23.999999999999996,\n",
       " 23.499999999999996,\n",
       " 22.999999999999996,\n",
       " 22.5,\n",
       " 22.0,\n",
       " 21.5,\n",
       " 21.0,\n",
       " 20.499999999999996,\n",
       " 19.999999999999996,\n",
       " 19.499999999999996,\n",
       " 18.999999999999996,\n",
       " 18.499999999999996,\n",
       " 18.0,\n",
       " 17.5,\n",
       " 17.0,\n",
       " 16.5,\n",
       " 16.0,\n",
       " 15.5,\n",
       " 15.0,\n",
       " 14.5,\n",
       " 14.0,\n",
       " 13.5,\n",
       " 13.0,\n",
       " 12.5,\n",
       " 12.0,\n",
       " 11.5,\n",
       " 11.0,\n",
       " 10.5,\n",
       " 10.0,\n",
       " 9.5,\n",
       " 9.0,\n",
       " 8.5,\n",
       " 8.0,\n",
       " 7.5,\n",
       " 7.0,\n",
       " 6.5,\n",
       " 6.0,\n",
       " 5.5,\n",
       " 5.0,\n",
       " 4.5,\n",
       " 4.000000000000007,\n",
       " 3.500000000000007,\n",
       " 3.000000000000007,\n",
       " 2.500000000000007,\n",
       " 2.000000000000007,\n",
       " 1.5,\n",
       " 1.0,\n",
       " 0.5,\n",
       " 0.0,\n",
       " -0.5,\n",
       " -1.0,\n",
       " -1.5,\n",
       " -2.0,\n",
       " -2.5,\n",
       " -3.0,\n",
       " -3.5,\n",
       " -4.0,\n",
       " -4.5,\n",
       " -4.999999999999993,\n",
       " -5.499999999999993,\n",
       " -5.999999999999993,\n",
       " -6.499999999999993,\n",
       " -6.999999999999993,\n",
       " -7.499999999999993,\n",
       " -7.999999999999993,\n",
       " -8.499999999999993,\n",
       " -9.0,\n",
       " -9.5,\n",
       " -10.0,\n",
       " -10.5,\n",
       " -11.0,\n",
       " -11.5,\n",
       " -12.0,\n",
       " -12.5,\n",
       " -13.0,\n",
       " -13.499999999999993,\n",
       " -13.999999999999993,\n",
       " -14.499999999999993,\n",
       " -14.999999999999993,\n",
       " -15.499999999999993,\n",
       " -15.999999999999993,\n",
       " -16.499999999999993,\n",
       " -16.999999999999993,\n",
       " -17.499999999999993,\n",
       " -17.999999999999993,\n",
       " -18.499999999999993,\n",
       " -18.999999999999993,\n",
       " -19.499999999999993,\n",
       " -19.999999999999993,\n",
       " -20.499999999999993,\n",
       " -20.999999999999993,\n",
       " -21.499999999999993,\n",
       " -21.999999999999993,\n",
       " -22.499999999999993,\n",
       " -22.999999999999993,\n",
       " -23.499999999999993,\n",
       " -23.999999999999993,\n",
       " -24.499999999999993,\n",
       " -24.999999999999993,\n",
       " -25.499999999999993,\n",
       " -25.999999999999993,\n",
       " -26.499999999999993,\n",
       " -26.999999999999993,\n",
       " -27.499999999999993,\n",
       " -27.999999999999993,\n",
       " -28.499999999999993,\n",
       " -28.999999999999993,\n",
       " -29.499999999999993,\n",
       " -29.999999999999993,\n",
       " -30.499999999999993,\n",
       " -30.999999999999993,\n",
       " -31.499999999999993,\n",
       " -31.999999999999993,\n",
       " -32.49999999999999,\n",
       " -32.99999999999999,\n",
       " -33.49999999999998,\n",
       " -33.99999999999999,\n",
       " -34.49999999999998,\n",
       " -34.99999999999999,\n",
       " -35.50000000000001,\n",
       " -35.99999999999999,\n",
       " -36.49999999999999,\n",
       " -36.99999999999999,\n",
       " -37.49999999999999,\n",
       " -37.99999999999999,\n",
       " -38.49999999999999,\n",
       " -38.99999999999999,\n",
       " -39.49999999999999,\n",
       " -39.99999999999999,\n",
       " -40.49999999999999,\n",
       " -40.99999999999999,\n",
       " -41.49999999999999,\n",
       " -41.99999999999998,\n",
       " -42.49999999999999,\n",
       " -42.99999999999998,\n",
       " -43.49999999999999,\n",
       " -43.99999999999998,\n",
       " -44.49999999999999,\n",
       " -44.99999999999998,\n",
       " -45.49999999999999,\n",
       " -45.99999999999998,\n",
       " -46.49999999999999,\n",
       " -46.99999999999999,\n",
       " -47.49999999999999,\n",
       " -47.99999999999999,\n",
       " -48.49999999999999,\n",
       " -48.99999999999999,\n",
       " -49.49999999999999,\n",
       " -49.99999999999999]"
      ]
     },
     "execution_count": 27,
     "metadata": {},
     "output_type": "execute_result"
    }
   ],
   "source": [
    "vels_y = [] #Velocidades en y a través del tiempo\n",
    "deltas = [] #Saltos n en el tiempo\n",
    "for i in range(n+1):\n",
    "    #v_x = v_0*np.cos(theta)\n",
    "    deltas.append(i)\n",
    "    v_y = v_0*np.sin(theta) - g*(delta*i)\n",
    "    vels_y.append(v_y)\n",
    "    \n",
    "vels_y"
   ]
  },
  {
   "cell_type": "code",
   "execution_count": 9,
   "metadata": {},
   "outputs": [],
   "source": [
    "#Calculo de posición horizontal y vertical\n",
    "dist = []\n",
    "alt = []\n",
    "for i in range(n):\n",
    "    x = v_0*np.cos(theta)*(delta*i)\n",
    "    dist.append(x)\n",
    "    y = v_0*np.sin(theta)*(delta*i) - (g*(delta*i)**2)/2\n",
    "    alt.append(y)"
   ]
  },
  {
   "cell_type": "code",
   "execution_count": 11,
   "metadata": {},
   "outputs": [
    {
     "data": {
      "text/plain": [
       "[0.0,\n",
       " 2.538265306122448,\n",
       " 5.0510204081632635,\n",
       " 7.538265306122446,\n",
       " 9.999999999999996,\n",
       " 12.436224489795913,\n",
       " 14.846938775510196,\n",
       " 17.23214285714285,\n",
       " 19.59183673469387,\n",
       " 21.926020408163257,\n",
       " 24.23469387755101,\n",
       " 26.51785714285713,\n",
       " 28.77551020408162,\n",
       " 31.007653061224474,\n",
       " 33.2142857142857,\n",
       " 35.395408163265294,\n",
       " 37.551020408163254,\n",
       " 39.68112244897957,\n",
       " 41.78571428571427,\n",
       " 43.86479591836733,\n",
       " 45.91836734693876,\n",
       " 47.94642857142855,\n",
       " 49.94897959183672,\n",
       " 51.92602040816325,\n",
       " 53.87755102040814,\n",
       " 55.80357142857141,\n",
       " 57.70408163265303,\n",
       " 59.579081632653036,\n",
       " 61.42857142857141,\n",
       " 63.252551020408134,\n",
       " 65.05102040816325,\n",
       " 66.8239795918367,\n",
       " 68.57142857142856,\n",
       " 70.29336734693874,\n",
       " 71.98979591836732,\n",
       " 73.66071428571425,\n",
       " 75.30612244897956,\n",
       " 76.92602040816324,\n",
       " 78.52040816326527,\n",
       " 80.08928571428568,\n",
       " 81.63265306122446,\n",
       " 83.1505102040816,\n",
       " 84.64285714285711,\n",
       " 86.10969387755098,\n",
       " 87.55102040816324,\n",
       " 88.96683673469383,\n",
       " 90.35714285714282,\n",
       " 91.72193877551015,\n",
       " 93.06122448979588,\n",
       " 94.37499999999997,\n",
       " 95.66326530612241,\n",
       " 96.92602040816323,\n",
       " 98.1632653061224,\n",
       " 99.37499999999997,\n",
       " 100.56122448979588,\n",
       " 101.72193877551015,\n",
       " 102.85714285714283,\n",
       " 103.96683673469383,\n",
       " 105.05102040816321,\n",
       " 106.10969387755097,\n",
       " 107.14285714285711,\n",
       " 108.1505102040816,\n",
       " 109.13265306122445,\n",
       " 110.08928571428568,\n",
       " 111.02040816326527,\n",
       " 111.92602040816321,\n",
       " 112.80612244897954,\n",
       " 113.66071428571425,\n",
       " 114.48979591836729,\n",
       " 115.29336734693871,\n",
       " 116.07142857142853,\n",
       " 116.8239795918367,\n",
       " 117.55102040816323,\n",
       " 118.2525510204081,\n",
       " 118.9285714285714,\n",
       " 119.57908163265301,\n",
       " 120.204081632653,\n",
       " 120.80357142857139,\n",
       " 121.37755102040812,\n",
       " 121.92602040816323,\n",
       " 122.44897959183669,\n",
       " 122.94642857142854,\n",
       " 123.41836734693874,\n",
       " 123.86479591836729,\n",
       " 124.28571428571423,\n",
       " 124.68112244897955,\n",
       " 125.05102040816321,\n",
       " 125.39540816326526,\n",
       " 125.71428571428568,\n",
       " 126.00765306122445,\n",
       " 126.27551020408157,\n",
       " 126.51785714285711,\n",
       " 126.73469387755098,\n",
       " 126.92602040816323,\n",
       " 127.09183673469381,\n",
       " 127.23214285714282,\n",
       " 127.34693877551017,\n",
       " 127.43622448979588,\n",
       " 127.49999999999994,\n",
       " 127.5382653061224,\n",
       " 127.55102040816323,\n",
       " 127.53826530612241,\n",
       " 127.49999999999994,\n",
       " 127.43622448979585,\n",
       " 127.34693877551013,\n",
       " 127.23214285714283,\n",
       " 127.09183673469383,\n",
       " 126.92602040816323,\n",
       " 126.73469387755097,\n",
       " 126.51785714285708,\n",
       " 126.27551020408157,\n",
       " 126.00765306122446,\n",
       " 125.7142857142857,\n",
       " 125.39540816326527,\n",
       " 125.05102040816323,\n",
       " 124.68112244897952,\n",
       " 124.28571428571422,\n",
       " 123.86479591836726,\n",
       " 123.41836734693871,\n",
       " 122.94642857142853,\n",
       " 122.44897959183672,\n",
       " 121.92602040816325,\n",
       " 121.37755102040813,\n",
       " 120.80357142857136,\n",
       " 120.20408163265301,\n",
       " 119.57908163265301,\n",
       " 118.92857142857139,\n",
       " 118.25255102040816,\n",
       " 117.55102040816325,\n",
       " 116.82397959183669,\n",
       " 116.0714285714285,\n",
       " 115.29336734693871,\n",
       " 114.48979591836729,\n",
       " 113.66071428571428,\n",
       " 112.80612244897958,\n",
       " 111.92602040816325,\n",
       " 111.02040816326527,\n",
       " 110.0892857142857,\n",
       " 109.13265306122443,\n",
       " 108.15051020408157,\n",
       " 107.14285714285708,\n",
       " 106.10969387755102,\n",
       " 105.05102040816325,\n",
       " 103.96683673469386,\n",
       " 102.85714285714283,\n",
       " 101.72193877551018,\n",
       " 100.56122448979585,\n",
       " 99.375,\n",
       " 98.16326530612247,\n",
       " 96.92602040816325,\n",
       " 95.66326530612241,\n",
       " 94.375,\n",
       " 93.06122448979585,\n",
       " 91.72193877551013,\n",
       " 90.35714285714283,\n",
       " 88.96683673469386,\n",
       " 87.55102040816325,\n",
       " 86.10969387755097,\n",
       " 84.64285714285711,\n",
       " 83.15051020408157,\n",
       " 81.63265306122446,\n",
       " 80.08928571428572,\n",
       " 78.5204081632653,\n",
       " 76.92602040816331,\n",
       " 75.30612244897958,\n",
       " 73.66071428571422,\n",
       " 71.98979591836729,\n",
       " 70.2933673469388,\n",
       " 68.57142857142856,\n",
       " 66.82397959183675,\n",
       " 65.05102040816325,\n",
       " 63.252551020408134,\n",
       " 61.42857142857139,\n",
       " 59.579081632653015,\n",
       " 57.70408163265307,\n",
       " 55.80357142857133,\n",
       " 53.87755102040819,\n",
       " 51.926020408163254,\n",
       " 49.948979591836746,\n",
       " 47.946428571428555,\n",
       " 45.91836734693874,\n",
       " 43.86479591836735,\n",
       " 41.785714285714334,\n",
       " 39.68112244897952,\n",
       " 37.55102040816331,\n",
       " 35.3954081632653,\n",
       " 33.21428571428578,\n",
       " 31.00765306122446,\n",
       " 28.775510204081627,\n",
       " 26.51785714285711,\n",
       " 24.23469387755108,\n",
       " 21.92602040816331,\n",
       " 19.59183673469397,\n",
       " 17.23214285714289,\n",
       " 14.846938775510182,\n",
       " 12.436224489795904,\n",
       " 9.999999999999943,\n",
       " 7.5382653061225255,\n",
       " 5.051020408163254,\n",
       " 2.5382653061225255]"
      ]
     },
     "execution_count": 11,
     "metadata": {},
     "output_type": "execute_result"
    }
   ],
   "source": [
    "alt"
   ]
  },
  {
   "cell_type": "code",
   "execution_count": 12,
   "metadata": {},
   "outputs": [],
   "source": [
    "for i in range(n):\n",
    "    y = vels_y[i+1]"
   ]
  },
  {
   "cell_type": "code",
   "execution_count": 18,
   "metadata": {},
   "outputs": [
    {
     "data": {
      "image/png": "[encoded data removed]",
      "text/plain": [
       "<Figure size 432x288 with 1 Axes>"
      ]
     },
     "metadata": {
      "needs_background": "light"
     },
     "output_type": "display_data"
    }
   ],
   "source": [
    "plt.plot(dist,alt)\n",
    "plt.title('Movimiento Parabólico calculado mediante Python')\n",
    "plt.xlabel('Distancia horizontal')\n",
    "plt.ylabel('Distancia vertical')\n",
    "plt.show()"
   ]
  },
  {
   "cell_type": "code",
   "execution_count": 14,
   "metadata": {},
   "outputs": [
    {
     "data": {
      "text/html": [
       "<div>\n",
       "<style scoped>\n",
       "    .dataframe tbody tr th:only-of-type {\n",
       "        vertical-align: middle;\n",
       "    }\n",
       "\n",
       "    .dataframe tbody tr th {\n",
       "        vertical-align: top;\n",
       "    }\n",
       "\n",
       "    .dataframe thead th {\n",
       "        text-align: right;\n",
       "    }\n",
       "</style>\n",
       "<table border=\"1\" class=\"dataframe\">\n",
       "  <thead>\n",
       "    <tr style=\"text-align: right;\">\n",
       "      <th></th>\n",
       "      <th>Tiempo</th>\n",
       "      <th>Velocidad</th>\n",
       "      <th>X</th>\n",
       "      <th>Y</th>\n",
       "    </tr>\n",
       "  </thead>\n",
       "  <tbody>\n",
       "    <tr>\n",
       "      <th>0</th>\n",
       "      <td>0</td>\n",
       "      <td>50.0</td>\n",
       "      <td>0.00000</td>\n",
       "      <td>0.00000</td>\n",
       "    </tr>\n",
       "    <tr>\n",
       "      <th>1</th>\n",
       "      <td>1</td>\n",
       "      <td>49.5</td>\n",
       "      <td>4.41850</td>\n",
       "      <td>2.53827</td>\n",
       "    </tr>\n",
       "    <tr>\n",
       "      <th>2</th>\n",
       "      <td>2</td>\n",
       "      <td>49.0</td>\n",
       "      <td>8.83699</td>\n",
       "      <td>5.05102</td>\n",
       "    </tr>\n",
       "    <tr>\n",
       "      <th>3</th>\n",
       "      <td>3</td>\n",
       "      <td>48.5</td>\n",
       "      <td>13.25550</td>\n",
       "      <td>7.53826</td>\n",
       "    </tr>\n",
       "    <tr>\n",
       "      <th>4</th>\n",
       "      <td>4</td>\n",
       "      <td>48.0</td>\n",
       "      <td>17.67400</td>\n",
       "      <td>10.00000</td>\n",
       "    </tr>\n",
       "    <tr>\n",
       "      <th>...</th>\n",
       "      <td>...</td>\n",
       "      <td>...</td>\n",
       "      <td>...</td>\n",
       "      <td>...</td>\n",
       "    </tr>\n",
       "    <tr>\n",
       "      <th>195</th>\n",
       "      <td>195</td>\n",
       "      <td>-47.5</td>\n",
       "      <td>861.60700</td>\n",
       "      <td>12.43620</td>\n",
       "    </tr>\n",
       "    <tr>\n",
       "      <th>196</th>\n",
       "      <td>196</td>\n",
       "      <td>-48.0</td>\n",
       "      <td>866.02500</td>\n",
       "      <td>9.99999</td>\n",
       "    </tr>\n",
       "    <tr>\n",
       "      <th>197</th>\n",
       "      <td>197</td>\n",
       "      <td>-48.5</td>\n",
       "      <td>870.44400</td>\n",
       "      <td>7.53830</td>\n",
       "    </tr>\n",
       "    <tr>\n",
       "      <th>198</th>\n",
       "      <td>198</td>\n",
       "      <td>-49.0</td>\n",
       "      <td>874.86200</td>\n",
       "      <td>5.05104</td>\n",
       "    </tr>\n",
       "    <tr>\n",
       "      <th>199</th>\n",
       "      <td>199</td>\n",
       "      <td>-49.5</td>\n",
       "      <td>879.28100</td>\n",
       "      <td>2.53827</td>\n",
       "    </tr>\n",
       "  </tbody>\n",
       "</table>\n",
       "<p>200 rows × 4 columns</p>\n",
       "</div>"
      ],
      "text/plain": [
       "     Tiempo    Velocidad          X          Y\n",
       "0          0         50.0    0.00000   0.00000\n",
       "1          1         49.5    4.41850   2.53827\n",
       "2          2         49.0    8.83699   5.05102\n",
       "3          3         48.5   13.25550   7.53826\n",
       "4          4         48.0   17.67400  10.00000\n",
       "..       ...          ...        ...       ...\n",
       "195      195        -47.5  861.60700  12.43620\n",
       "196      196        -48.0  866.02500   9.99999\n",
       "197      197        -48.5  870.44400   7.53830\n",
       "198      198        -49.0  874.86200   5.05104\n",
       "199      199        -49.5  879.28100   2.53827\n",
       "\n",
       "[200 rows x 4 columns]"
      ]
     },
     "execution_count": 14,
     "metadata": {},
     "output_type": "execute_result"
    }
   ],
   "source": [
    "data = pd.read_csv('Velocidades_vertical.txt', sep=',')\n",
    "df = pd.DataFrame(data)\n",
    "df"
   ]
  },
  {
   "cell_type": "code",
   "execution_count": 19,
   "metadata": {},
   "outputs": [
    {
     "data": {
      "text/plain": [
       "Text(0, 0.5, 'Distancia vertical')"
      ]
     },
     "execution_count": 19,
     "metadata": {},
     "output_type": "execute_result"
    },
    {
     "data": {
      "image/png": "[encoded data removed]",
      "text/plain": [
       "<Figure size 432x288 with 1 Axes>"
      ]
     },
     "metadata": {
      "needs_background": "light"
     },
     "output_type": "display_data"
    }
   ],
   "source": [
    "plt.plot(df.iloc[:, 2], df.iloc[:, 3])\n",
    "plt.title('Movimiento Parabólico calculado mediante C++')\n",
    "plt.xlabel('Distancia horizontal')\n",
    "plt.ylabel('Distancia vertical')\n"
   ]
  },
  {
   "cell_type": "code",
   "execution_count": 42,
   "metadata": {},
   "outputs": [
    {
     "data": {
      "text/plain": [
       "<matplotlib.legend.Legend at 0x7f10e019a2b0>"
      ]
     },
     "execution_count": 42,
     "metadata": {},
     "output_type": "execute_result"
    },
    {
     "data": {
      "image/png": "[encoded data removed]",
      "text/plain": [
       "<Figure size 432x288 with 1 Axes>"
      ]
     },
     "metadata": {
      "needs_background": "light"
     },
     "output_type": "display_data"
    }
   ],
   "source": [
    "a=plt.figure()\n",
    "ax=a.add_subplot(111)\n",
    "ax.plot(df.iloc[:, 2], df.iloc[:, 3], label='Datos en C++', color= 'red')\n",
    "ax.plot(dist,alt, label='Datos en Python', color = 'black')\n",
    "\n",
    "plt.title('Altura vs posición, calculado por C++ y Python', fontsize=13)\n",
    "plt.xlabel('Distancia horizontal', fontsize=10)\n",
    "plt.ylabel('Distancia vertical', fontsize=10)\n",
    "ax.legend()"
   ]
  },
  {
   "cell_type": "code",
   "execution_count": 41,
   "metadata": {},
   "outputs": [
    {
     "data": {
      "text/plain": [
       "<matplotlib.legend.Legend at 0x7f10e044cf10>"
      ]
     },
     "execution_count": 41,
     "metadata": {},
     "output_type": "execute_result"
    },
    {
     "data": {
      "image/png": "[encoded data removed]",
      "text/plain": [
       "<Figure size 432x288 with 1 Axes>"
      ]
     },
     "metadata": {
      "needs_background": "light"
     },
     "output_type": "display_data"
    }
   ],
   "source": [
    "a=plt.figure()\n",
    "ax=a.add_subplot(111)\n",
    "ax.plot(df.iloc[:, 0], df.iloc[:, 1], label='Datos en C++', color= 'red')\n",
    "ax.plot(deltas, vels_y, label='Datos en Python', color = 'black')\n",
    "\n",
    "plt.title('Velocidad para cada salto temporal, calculado en C++ y Python', fontsize=13)\n",
    "plt.xlabel('Saltos n en el tiempo ', fontsize=10)\n",
    "plt.ylabel('Velocidad vertical', fontsize=10)\n",
    "ax.legend()"
   ]
  },
  {
   "cell_type": "code",
   "execution_count": null,
   "metadata": {},
   "outputs": [],
   "source": []
  }
 ],
 "metadata": {
  "kernelspec": {
   "display_name": "Python 3",
   "language": "python",
   "name": "python3"
  },
  "language_info": {
   "codemirror_mode": {
    "name": "ipython",
    "version": 3
   },
   "file_extension": ".py",
   "mimetype": "text/x-python",
   "name": "python",
   "nbconvert_exporter": "python",
   "pygments_lexer": "ipython3",
   "version": "3.8.5"
  }
 },
 "nbformat": 4,
 "nbformat_minor": 4
}
